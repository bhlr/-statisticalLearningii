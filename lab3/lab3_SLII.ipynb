{
  "nbformat": 4,
  "nbformat_minor": 0,
  "metadata": {
    "colab": {
      "name": "lab3_SLII.ipynb",
      "provenance": []
    },
    "kernelspec": {
      "name": "python3",
      "display_name": "Python 3"
    },
    "language_info": {
      "name": "python"
    }
  },
  "cells": [
    {
      "cell_type": "code",
      "metadata": {
        "id": "QN_PrpRlFBED"
      },
      "source": [
        "import numpy as np\n",
        "import seaborn as sns\n",
        "from matplotlib import pyplot as plt\n",
        "import pandas as pd\n",
        "from sklearn.preprocessing import PolynomialFeatures\n"
      ],
      "execution_count": 9,
      "outputs": []
    },
    {
      "cell_type": "code",
      "metadata": {
        "colab": {
          "base_uri": "https://localhost:8080/"
        },
        "id": "eS9DL5myFGzy",
        "outputId": "568ceb64-a60f-459f-84a8-eb862954b5eb"
      },
      "source": [
        "from google.colab import drive\n",
        "drive.mount('/content/drive',force_remount=True)"
      ],
      "execution_count": 2,
      "outputs": [
        {
          "output_type": "stream",
          "name": "stdout",
          "text": [
            "Mounted at /content/drive\n"
          ]
        }
      ]
    },
    {
      "cell_type": "code",
      "metadata": {
        "id": "fYURc00oFJ1-"
      },
      "source": [
        "strDataTrain = '/content/drive/MyDrive/PADP/StatisticallearningII/lab3/proyecto_training_data.npy'"
      ],
      "execution_count": 3,
      "outputs": []
    },
    {
      "cell_type": "code",
      "metadata": {
        "colab": {
          "base_uri": "https://localhost:8080/"
        },
        "id": "J-1Xy6psFlZn",
        "outputId": "36f4b73d-d456-4b50-8974-d746bcd4f65a"
      },
      "source": [
        "data=np.load(strDataTrain)\n",
        "print(data.shape)"
      ],
      "execution_count": 4,
      "outputs": [
        {
          "output_type": "stream",
          "name": "stdout",
          "text": [
            "(1460, 6)\n"
          ]
        }
      ]
    },
    {
      "cell_type": "code",
      "metadata": {
        "colab": {
          "base_uri": "https://localhost:8080/"
        },
        "id": "-iGS2tThJLtL",
        "outputId": "b158ec93-738d-4379-c922-d4102bb4e86e"
      },
      "source": [
        "data"
      ],
      "execution_count": 7,
      "outputs": [
        {
          "output_type": "execute_result",
          "data": {
            "text/plain": [
              "array([[2.08500e+05, 7.00000e+00, 8.56000e+02, 8.00000e+00, 2.00300e+03,\n",
              "        6.50000e+01],\n",
              "       [1.81500e+05, 6.00000e+00, 1.26200e+03, 6.00000e+00, 1.97600e+03,\n",
              "        8.00000e+01],\n",
              "       [2.23500e+05, 7.00000e+00, 9.20000e+02, 6.00000e+00, 2.00100e+03,\n",
              "        6.80000e+01],\n",
              "       ...,\n",
              "       [2.66500e+05, 7.00000e+00, 1.18800e+03, 9.00000e+00, 1.94100e+03,\n",
              "        6.60000e+01],\n",
              "       [1.42125e+05, 5.00000e+00, 1.07800e+03, 5.00000e+00, 1.95000e+03,\n",
              "        6.80000e+01],\n",
              "       [1.47500e+05, 5.00000e+00, 1.25600e+03, 6.00000e+00, 1.96500e+03,\n",
              "        7.50000e+01]])"
            ]
          },
          "metadata": {},
          "execution_count": 7
        }
      ]
    },
    {
      "cell_type": "code",
      "metadata": {
        "colab": {
          "base_uri": "https://localhost:8080/",
          "height": 204
        },
        "id": "PVlnbOh6FxBC",
        "outputId": "62fa467d-c214-4d5c-feaa-2c8addc57f8d"
      },
      "source": [
        "dsdata = pd.DataFrame(data, columns = ['SalePrice', 'OverallQual', '1stFlrSF', 'TotRmsAbvGrd', 'YearBuilt', 'LotFrontage'])\n",
        "dsdata.head()"
      ],
      "execution_count": 6,
      "outputs": [
        {
          "output_type": "execute_result",
          "data": {
            "text/html": [
              "<div>\n",
              "<style scoped>\n",
              "    .dataframe tbody tr th:only-of-type {\n",
              "        vertical-align: middle;\n",
              "    }\n",
              "\n",
              "    .dataframe tbody tr th {\n",
              "        vertical-align: top;\n",
              "    }\n",
              "\n",
              "    .dataframe thead th {\n",
              "        text-align: right;\n",
              "    }\n",
              "</style>\n",
              "<table border=\"1\" class=\"dataframe\">\n",
              "  <thead>\n",
              "    <tr style=\"text-align: right;\">\n",
              "      <th></th>\n",
              "      <th>SalePrice</th>\n",
              "      <th>OverallQual</th>\n",
              "      <th>1stFlrSF</th>\n",
              "      <th>TotRmsAbvGrd</th>\n",
              "      <th>YearBuilt</th>\n",
              "      <th>LotFrontage</th>\n",
              "    </tr>\n",
              "  </thead>\n",
              "  <tbody>\n",
              "    <tr>\n",
              "      <th>0</th>\n",
              "      <td>208500.0</td>\n",
              "      <td>7.0</td>\n",
              "      <td>856.0</td>\n",
              "      <td>8.0</td>\n",
              "      <td>2003.0</td>\n",
              "      <td>65.0</td>\n",
              "    </tr>\n",
              "    <tr>\n",
              "      <th>1</th>\n",
              "      <td>181500.0</td>\n",
              "      <td>6.0</td>\n",
              "      <td>1262.0</td>\n",
              "      <td>6.0</td>\n",
              "      <td>1976.0</td>\n",
              "      <td>80.0</td>\n",
              "    </tr>\n",
              "    <tr>\n",
              "      <th>2</th>\n",
              "      <td>223500.0</td>\n",
              "      <td>7.0</td>\n",
              "      <td>920.0</td>\n",
              "      <td>6.0</td>\n",
              "      <td>2001.0</td>\n",
              "      <td>68.0</td>\n",
              "    </tr>\n",
              "    <tr>\n",
              "      <th>3</th>\n",
              "      <td>140000.0</td>\n",
              "      <td>7.0</td>\n",
              "      <td>961.0</td>\n",
              "      <td>7.0</td>\n",
              "      <td>1915.0</td>\n",
              "      <td>60.0</td>\n",
              "    </tr>\n",
              "    <tr>\n",
              "      <th>4</th>\n",
              "      <td>250000.0</td>\n",
              "      <td>8.0</td>\n",
              "      <td>1145.0</td>\n",
              "      <td>9.0</td>\n",
              "      <td>2000.0</td>\n",
              "      <td>84.0</td>\n",
              "    </tr>\n",
              "  </tbody>\n",
              "</table>\n",
              "</div>"
            ],
            "text/plain": [
              "   SalePrice  OverallQual  1stFlrSF  TotRmsAbvGrd  YearBuilt  LotFrontage\n",
              "0   208500.0          7.0     856.0           8.0     2003.0         65.0\n",
              "1   181500.0          6.0    1262.0           6.0     1976.0         80.0\n",
              "2   223500.0          7.0     920.0           6.0     2001.0         68.0\n",
              "3   140000.0          7.0     961.0           7.0     1915.0         60.0\n",
              "4   250000.0          8.0    1145.0           9.0     2000.0         84.0"
            ]
          },
          "metadata": {},
          "execution_count": 6
        }
      ]
    },
    {
      "cell_type": "code",
      "metadata": {
        "colab": {
          "base_uri": "https://localhost:8080/"
        },
        "id": "ygODULvaL4et",
        "outputId": "a389e2f7-8912-4ea5-bb53-bfbab270cfa9"
      },
      "source": [
        "dsdata.iloc[:,1:6]\n",
        "data[:,1:2]"
      ],
      "execution_count": 28,
      "outputs": [
        {
          "output_type": "execute_result",
          "data": {
            "text/plain": [
              "array([[7.],\n",
              "       [6.],\n",
              "       [7.],\n",
              "       ...,\n",
              "       [7.],\n",
              "       [5.],\n",
              "       [5.]])"
            ]
          },
          "metadata": {},
          "execution_count": 28
        }
      ]
    },
    {
      "cell_type": "code",
      "metadata": {
        "colab": {
          "base_uri": "https://localhost:8080/"
        },
        "id": "eN_fAsswJb26",
        "outputId": "e5098602-d90c-494e-da41-9be4445ff5f8"
      },
      "source": [
        "poly = PolynomialFeatures(3)\n",
        "Ndata = poly.fit_transform(data[:,1:3])\n",
        "Ndata.shape[1]\n"
      ],
      "execution_count": 25,
      "outputs": [
        {
          "output_type": "execute_result",
          "data": {
            "text/plain": [
              "(1460, 10)"
            ]
          },
          "metadata": {},
          "execution_count": 25
        }
      ]
    },
    {
      "cell_type": "code",
      "metadata": {
        "colab": {
          "base_uri": "https://localhost:8080/"
        },
        "id": "y1jmpLdBOXGf",
        "outputId": "4953eb33-ea3b-48b3-f983-3bb86b4cecde"
      },
      "source": [
        "dimensionalidad= np.zeros((3, 3))\n",
        "for i in range(0,3):\n",
        "  poly = PolynomialFeatures(i+1)\n",
        "  dimensionalidad[i,0] = poly.fit_transform(data[:,1:2]).shape[1]\n",
        "  dimensionalidad[i,1] = poly.fit_transform(data[:,1:3]).shape[1]\n",
        "  dimensionalidad[i,2] = poly.fit_transform(data[:,1:4]).shape[1]\n",
        "  \n",
        "\n",
        "dimensionalidad"
      ],
      "execution_count": 41,
      "outputs": [
        {
          "output_type": "execute_result",
          "data": {
            "text/plain": [
              "array([[ 2.,  3.,  4.],\n",
              "       [ 3.,  6., 10.],\n",
              "       [ 4., 10., 20.]])"
            ]
          },
          "metadata": {},
          "execution_count": 41
        }
      ]
    },
    {
      "cell_type": "code",
      "metadata": {
        "colab": {
          "base_uri": "https://localhost:8080/"
        },
        "id": "2yLgZLkoSrE8",
        "outputId": "b3eb39da-5857-4415-ec50-d6be6257ed6b"
      },
      "source": [
        "dimensionalidad[0] "
      ],
      "execution_count": 42,
      "outputs": [
        {
          "output_type": "execute_result",
          "data": {
            "text/plain": [
              "array([2., 3., 4.])"
            ]
          },
          "metadata": {},
          "execution_count": 42
        }
      ]
    },
    {
      "cell_type": "code",
      "metadata": {
        "colab": {
          "base_uri": "https://localhost:8080/",
          "height": 265
        },
        "id": "7PORltnZRmax",
        "outputId": "813c1fb0-47df-4f88-b363-9cc2032d4576"
      },
      "source": [
        "for i in range(0,3):\n",
        "  y = dimensionalidad[i]\n",
        "  x= [1,2,3]\n",
        "  plt.plot(x, y,label='Grado {}'.format(i+1))\n",
        "  plt.scatter(x, y)\n",
        "  plt.legend()\n",
        "\n",
        "plt.show()"
      ],
      "execution_count": 43,
      "outputs": [
        {
          "output_type": "display_data",
          "data": {
            "image/png": "[encoded data removed]",
            "text/plain": [
              "<Figure size 432x288 with 1 Axes>"
            ]
          },
          "metadata": {
            "needs_background": "light"
          }
        }
      ]
    },
    {
      "cell_type": "markdown",
      "metadata": {
        "id": "P8ZB6GXKThhH"
      },
      "source": [
        "**Resultados**\n",
        "\n",
        "Como visto en clase conforme el número de dimensiones(variables) aumenta , el número de posibles combinaciones de estas aumenta exponencialmente. \n",
        "\n",
        "Tambien podemos ver que el grado que se utilice tiene el mismo efecto con el comportamiento de la dimensiones. "
      ]
    }
  ]
}