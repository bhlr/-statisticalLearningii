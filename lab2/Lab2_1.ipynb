{
  "nbformat": 4,
  "nbformat_minor": 0,
  "metadata": {
    "colab": {
      "name": "Lab2_1.ipynb",
      "provenance": []
    },
    "kernelspec": {
      "name": "python3",
      "display_name": "Python 3"
    },
    "language_info": {
      "name": "python"
    }
  },
  "cells": [
    {
      "cell_type": "code",
      "metadata": {
        "id": "QN9oTrzWxtZd"
      },
      "source": [
        "import matplotlib.pyplot as plt\n",
        "import numpy as np\n",
        "import pandas as pd\n",
        "%matplotlib inline\n",
        "\n",
        "from numpy import genfromtxt\n",
        "from scipy.stats import multivariate_normal\n",
        "from sklearn.metrics import f1_score\n",
        "from sklearn.model_selection import train_test_split"
      ],
      "execution_count": 15,
      "outputs": []
    },
    {
      "cell_type": "code",
      "metadata": {
        "colab": {
          "base_uri": "https://localhost:8080/"
        },
        "id": "iPBBHu7wyofU",
        "outputId": "7ea4afb5-e91e-4b38-fef0-17cdbfd5911d"
      },
      "source": [
        "!pip install PyDrive\n",
        "from pydrive.auth import GoogleAuth\n",
        "from pydrive.drive import GoogleDrive\n",
        "from google.colab import auth\n",
        "from oauth2client.client import GoogleCredentials\n",
        "# 1. Authenticate and create the PyDrive client.\n",
        "auth.authenticate_user()\n",
        "gauth = GoogleAuth()\n",
        "gauth.credentials = GoogleCredentials.get_application_default()\n",
        "drive = GoogleDrive(gauth)\n",
        "#2. Get the file\n",
        "downloaded = drive.CreateFile({'id':\"1qeuakI0yXBFU89b6CZB2kGx0YL3Vv5UN\"})   # replace the id with id of file you want to access\n",
        "downloaded.GetContentFile('estaturas.xlsx')\n",
        "downloaded"
      ],
      "execution_count": 23,
      "outputs": [
        {
          "output_type": "stream",
          "text": [
            "Requirement already satisfied: PyDrive in /usr/local/lib/python3.7/dist-packages (1.3.1)\n",
            "Requirement already satisfied: PyYAML>=3.0 in /usr/local/lib/python3.7/dist-packages (from PyDrive) (3.13)\n",
            "Requirement already satisfied: google-api-python-client>=1.2 in /usr/local/lib/python3.7/dist-packages (from PyDrive) (1.12.8)\n",
            "Requirement already satisfied: oauth2client>=4.0.0 in /usr/local/lib/python3.7/dist-packages (from PyDrive) (4.1.3)\n",
            "Requirement already satisfied: google-auth>=1.16.0 in /usr/local/lib/python3.7/dist-packages (from google-api-python-client>=1.2->PyDrive) (1.32.1)\n",
            "Requirement already satisfied: google-api-core<2dev,>=1.21.0 in /usr/local/lib/python3.7/dist-packages (from google-api-python-client>=1.2->PyDrive) (1.26.3)\n",
            "Requirement already satisfied: google-auth-httplib2>=0.0.3 in /usr/local/lib/python3.7/dist-packages (from google-api-python-client>=1.2->PyDrive) (0.0.4)\n",
            "Requirement already satisfied: httplib2<1dev,>=0.15.0 in /usr/local/lib/python3.7/dist-packages (from google-api-python-client>=1.2->PyDrive) (0.17.4)\n",
            "Requirement already satisfied: uritemplate<4dev,>=3.0.0 in /usr/local/lib/python3.7/dist-packages (from google-api-python-client>=1.2->PyDrive) (3.0.1)\n",
            "Requirement already satisfied: six<2dev,>=1.13.0 in /usr/local/lib/python3.7/dist-packages (from google-api-python-client>=1.2->PyDrive) (1.15.0)\n",
            "Requirement already satisfied: protobuf>=3.12.0 in /usr/local/lib/python3.7/dist-packages (from google-api-core<2dev,>=1.21.0->google-api-python-client>=1.2->PyDrive) (3.17.3)\n",
            "Requirement already satisfied: googleapis-common-protos<2.0dev,>=1.6.0 in /usr/local/lib/python3.7/dist-packages (from google-api-core<2dev,>=1.21.0->google-api-python-client>=1.2->PyDrive) (1.53.0)\n",
            "Requirement already satisfied: requests<3.0.0dev,>=2.18.0 in /usr/local/lib/python3.7/dist-packages (from google-api-core<2dev,>=1.21.0->google-api-python-client>=1.2->PyDrive) (2.23.0)\n",
            "Requirement already satisfied: packaging>=14.3 in /usr/local/lib/python3.7/dist-packages (from google-api-core<2dev,>=1.21.0->google-api-python-client>=1.2->PyDrive) (21.0)\n",
            "Requirement already satisfied: pytz in /usr/local/lib/python3.7/dist-packages (from google-api-core<2dev,>=1.21.0->google-api-python-client>=1.2->PyDrive) (2018.9)\n",
            "Requirement already satisfied: setuptools>=40.3.0 in /usr/local/lib/python3.7/dist-packages (from google-api-core<2dev,>=1.21.0->google-api-python-client>=1.2->PyDrive) (57.2.0)\n",
            "Requirement already satisfied: pyasn1-modules>=0.2.1 in /usr/local/lib/python3.7/dist-packages (from google-auth>=1.16.0->google-api-python-client>=1.2->PyDrive) (0.2.8)\n",
            "Requirement already satisfied: rsa<5,>=3.1.4 in /usr/local/lib/python3.7/dist-packages (from google-auth>=1.16.0->google-api-python-client>=1.2->PyDrive) (4.7.2)\n",
            "Requirement already satisfied: cachetools<5.0,>=2.0.0 in /usr/local/lib/python3.7/dist-packages (from google-auth>=1.16.0->google-api-python-client>=1.2->PyDrive) (4.2.2)\n",
            "Requirement already satisfied: pyasn1>=0.1.7 in /usr/local/lib/python3.7/dist-packages (from oauth2client>=4.0.0->PyDrive) (0.4.8)\n",
            "Requirement already satisfied: pyparsing>=2.0.2 in /usr/local/lib/python3.7/dist-packages (from packaging>=14.3->google-api-core<2dev,>=1.21.0->google-api-python-client>=1.2->PyDrive) (2.4.7)\n",
            "Requirement already satisfied: chardet<4,>=3.0.2 in /usr/local/lib/python3.7/dist-packages (from requests<3.0.0dev,>=2.18.0->google-api-core<2dev,>=1.21.0->google-api-python-client>=1.2->PyDrive) (3.0.4)\n",
            "Requirement already satisfied: certifi>=2017.4.17 in /usr/local/lib/python3.7/dist-packages (from requests<3.0.0dev,>=2.18.0->google-api-core<2dev,>=1.21.0->google-api-python-client>=1.2->PyDrive) (2021.5.30)\n",
            "Requirement already satisfied: urllib3!=1.25.0,!=1.25.1,<1.26,>=1.21.1 in /usr/local/lib/python3.7/dist-packages (from requests<3.0.0dev,>=2.18.0->google-api-core<2dev,>=1.21.0->google-api-python-client>=1.2->PyDrive) (1.24.3)\n",
            "Requirement already satisfied: idna<3,>=2.5 in /usr/local/lib/python3.7/dist-packages (from requests<3.0.0dev,>=2.18.0->google-api-core<2dev,>=1.21.0->google-api-python-client>=1.2->PyDrive) (2.10)\n"
          ],
          "name": "stdout"
        },
        {
          "output_type": "execute_result",
          "data": {
            "text/plain": [
              "GoogleDriveFile({'id': '1qeuakI0yXBFU89b6CZB2kGx0YL3Vv5UN', 'kind': 'drive#file', 'etag': '\"MTYyNzUyMjg5ODU0OA\"', 'selfLink': 'https://www.googleapis.com/drive/v2/files/1qeuakI0yXBFU89b6CZB2kGx0YL3Vv5UN', 'webContentLink': 'https://drive.google.com/uc?id=1qeuakI0yXBFU89b6CZB2kGx0YL3Vv5UN&export=download', 'alternateLink': 'https://drive.google.com/file/d/1qeuakI0yXBFU89b6CZB2kGx0YL3Vv5UN/view?usp=drivesdk', 'embedLink': 'https://drive.google.com/file/d/1qeuakI0yXBFU89b6CZB2kGx0YL3Vv5UN/preview?usp=drivesdk', 'iconLink': 'https://drive-thirdparty.googleusercontent.com/16/type/application/vnd.openxmlformats-officedocument.spreadsheetml.sheet', 'thumbnailLink': 'https://lh3.googleusercontent.com/2rHlTOijtwabyT0UOPTpKlF8wM57Fc9E3ZH07vNCMXPyrk4g_zInMsxBLQohWNJmv_Uw6POa__nP5Lo=s220', 'title': 'estaturas.xlsx', 'mimeType': 'application/vnd.openxmlformats-officedocument.spreadsheetml.sheet', 'labels': {'starred': False, 'hidden': False, 'trashed': False, 'restricted': False, 'viewed': True}, 'copyRequiresWriterPermission': False, 'createdDate': '2021-07-29T01:17:14.537Z', 'modifiedDate': '2021-07-29T01:41:38.548Z', 'modifiedByMeDate': '2021-07-29T01:41:38.548Z', 'lastViewedByMeDate': '2021-07-29T01:41:38.548Z', 'markedViewedByMeDate': '1970-01-01T00:00:00.000Z', 'version': '9', 'parents': [{'kind': 'drive#parentReference', 'id': '175l93Q8hwSKbS1NOeibl44jF6HgpJEKe', 'selfLink': 'https://www.googleapis.com/drive/v2/files/1qeuakI0yXBFU89b6CZB2kGx0YL3Vv5UN/parents/175l93Q8hwSKbS1NOeibl44jF6HgpJEKe', 'parentLink': 'https://www.googleapis.com/drive/v2/files/175l93Q8hwSKbS1NOeibl44jF6HgpJEKe', 'isRoot': False}], 'downloadUrl': 'https://www.googleapis.com/drive/v2/files/1qeuakI0yXBFU89b6CZB2kGx0YL3Vv5UN?alt=media&source=downloadUrl', 'userPermission': {'kind': 'drive#permission', 'etag': '\"6PUmM3hiXKLBcEopqRTwuW6aPGE\"', 'id': 'me', 'selfLink': 'https://www.googleapis.com/drive/v2/files/1qeuakI0yXBFU89b6CZB2kGx0YL3Vv5UN/permissions/me', 'role': 'owner', 'type': 'user'}, 'originalFilename': 'estaturas.xlsx', 'fileExtension': 'xlsx', 'md5Checksum': '1dd90b10c3a3ae506eddd3045cfef256', 'fileSize': '14383', 'quotaBytesUsed': '28785', 'ownerNames': ['Byron Haroldo Linares Roman'], 'owners': [{'kind': 'drive#user', 'displayName': 'Byron Haroldo Linares Roman', 'picture': {'url': 'https://lh3.googleusercontent.com/a-/AOh14GhY8f9wHDhOHMkkc7TyU6fUZgegUzlyfyHifdHCgQ=s64'}, 'isAuthenticatedUser': True, 'permissionId': '00530245488351349117', 'emailAddress': 'bhlr@galileo.edu'}], 'lastModifyingUserName': 'Byron Haroldo Linares Roman', 'lastModifyingUser': {'kind': 'drive#user', 'displayName': 'Byron Haroldo Linares Roman', 'picture': {'url': 'https://lh3.googleusercontent.com/a-/AOh14GhY8f9wHDhOHMkkc7TyU6fUZgegUzlyfyHifdHCgQ=s64'}, 'isAuthenticatedUser': True, 'permissionId': '00530245488351349117', 'emailAddress': 'bhlr@galileo.edu'}, 'capabilities': {'canCopy': True, 'canEdit': True}, 'editable': True, 'copyable': True, 'writersCanShare': True, 'shared': True, 'explicitlyTrashed': False, 'appDataContents': False, 'headRevisionId': '0B5yO58N6LzpycnhZcTFVeHZqbklNbkUzU3hjbVcxRFFpMWR3PQ', 'spaces': ['drive']})"
            ]
          },
          "metadata": {
            "tags": []
          },
          "execution_count": 23
        }
      ]
    },
    {
      "cell_type": "code",
      "metadata": {
        "id": "pyMQ6GJkyo4P"
      },
      "source": [
        "train = pd.read_excel('estaturas.xlsx', sheet_name = 'normales', names = ['Estatura', 'Edad']) \n",
        "normales = pd.read_excel('estaturas.xlsx', sheet_name = 'valtest(normales)', names = ['Estatura', 'Edad'])\n",
        "anomalies = pd.read_excel('estaturas.xlsx', sheet_name = 'valtest(anomalias)', names = ['Estatura', 'Edad'])"
      ],
      "execution_count": 50,
      "outputs": []
    },
    {
      "cell_type": "code",
      "metadata": {
        "colab": {
          "base_uri": "https://localhost:8080/",
          "height": 204
        },
        "id": "92_n8khX3hTT",
        "outputId": "b7bf6997-c3df-4feb-a6d8-07ca52345ca3"
      },
      "source": [
        "normales.head()"
      ],
      "execution_count": 51,
      "outputs": [
        {
          "output_type": "execute_result",
          "data": {
            "text/html": [
              "<div>\n",
              "<style scoped>\n",
              "    .dataframe tbody tr th:only-of-type {\n",
              "        vertical-align: middle;\n",
              "    }\n",
              "\n",
              "    .dataframe tbody tr th {\n",
              "        vertical-align: top;\n",
              "    }\n",
              "\n",
              "    .dataframe thead th {\n",
              "        text-align: right;\n",
              "    }\n",
              "</style>\n",
              "<table border=\"1\" class=\"dataframe\">\n",
              "  <thead>\n",
              "    <tr style=\"text-align: right;\">\n",
              "      <th></th>\n",
              "      <th>Estatura</th>\n",
              "      <th>Edad</th>\n",
              "    </tr>\n",
              "  </thead>\n",
              "  <tbody>\n",
              "    <tr>\n",
              "      <th>0</th>\n",
              "      <td>1.82</td>\n",
              "      <td>25</td>\n",
              "    </tr>\n",
              "    <tr>\n",
              "      <th>1</th>\n",
              "      <td>1.80</td>\n",
              "      <td>27</td>\n",
              "    </tr>\n",
              "    <tr>\n",
              "      <th>2</th>\n",
              "      <td>1.60</td>\n",
              "      <td>31</td>\n",
              "    </tr>\n",
              "    <tr>\n",
              "      <th>3</th>\n",
              "      <td>1.60</td>\n",
              "      <td>35</td>\n",
              "    </tr>\n",
              "    <tr>\n",
              "      <th>4</th>\n",
              "      <td>1.82</td>\n",
              "      <td>30</td>\n",
              "    </tr>\n",
              "  </tbody>\n",
              "</table>\n",
              "</div>"
            ],
            "text/plain": [
              "   Estatura  Edad\n",
              "0      1.82    25\n",
              "1      1.80    27\n",
              "2      1.60    31\n",
              "3      1.60    35\n",
              "4      1.82    30"
            ]
          },
          "metadata": {
            "tags": []
          },
          "execution_count": 51
        }
      ]
    },
    {
      "cell_type": "code",
      "metadata": {
        "id": "E1nTw4y5MYPy"
      },
      "source": [
        "normales['type'] = 0\n",
        "anomalies['type'] = 1"
      ],
      "execution_count": 52,
      "outputs": []
    },
    {
      "cell_type": "code",
      "metadata": {
        "id": "7FmwWbK24WOV"
      },
      "source": [
        "normales_validation, normales_test = train_test_split(normales, test_size = 0.50)\n",
        "anomalies_validation, anomalies_test = train_test_split(anomalies, test_size = 0.50)"
      ],
      "execution_count": 53,
      "outputs": []
    },
    {
      "cell_type": "code",
      "metadata": {
        "colab": {
          "base_uri": "https://localhost:8080/"
        },
        "id": "0ZrjA7lu5TiU",
        "outputId": "748a2031-5361-4839-f70d-8bdce84e7e8a"
      },
      "source": [
        "print(normales_validation)\n",
        "print(normales_test)\n",
        "print(anomalies_validation)\n",
        "print(anomalies_test)"
      ],
      "execution_count": 60,
      "outputs": [
        {
          "output_type": "stream",
          "text": [
            "   Estatura  Edad  type\n",
            "7      1.61    31     0\n",
            "5      1.76    32     0\n",
            "0      1.82    25     0\n",
            "3      1.60    35     0\n",
            "   Estatura  Edad  type\n",
            "1      1.80    27     0\n",
            "6      1.79    31     0\n",
            "4      1.82    30     0\n",
            "2      1.60    31     0\n",
            "   Estatura  Edad  type\n",
            "3    150.00  14.0     1\n",
            "0      0.25   2.4     1\n",
            "   Estatura   Edad  type\n",
            "2      0.15  250.0     1\n",
            "1    175.10    2.5     1\n"
          ],
          "name": "stdout"
        }
      ]
    },
    {
      "cell_type": "code",
      "metadata": {
        "id": "smNxa5v5KnLC"
      },
      "source": [
        "validation = np.vstack((normales_validation, anomalies_validation))\n",
        "test = np.vstack((normales_test, anomalies_test))"
      ],
      "execution_count": 58,
      "outputs": []
    },
    {
      "cell_type": "code",
      "metadata": {
        "colab": {
          "base_uri": "https://localhost:8080/",
          "height": 265
        },
        "id": "-3hEvkDA7mko",
        "outputId": "bbcbfc2a-f5a7-486c-f670-617b1fc1444c"
      },
      "source": [
        "plt.scatter(x = trainset['Estatura'], y = trainset['Edad'], c = 'blue')\n",
        "plt.show()"
      ],
      "execution_count": 61,
      "outputs": [
        {
          "output_type": "display_data",
          "data": {
            "image/png": "[encoded data removed]",
            "text/plain": [
              "<Figure size 432x288 with 1 Axes>"
            ]
          },
          "metadata": {
            "tags": [],
            "needs_background": "light"
          }
        }
      ]
    },
    {
      "cell_type": "code",
      "metadata": {
        "id": "SvhmjD3M8MRZ"
      },
      "source": [
        "### parametros\n",
        "def estimateGaussian(dataset):\n",
        "    mu = np.mean(dataset, axis=0)\n",
        "    sigma = np.cov(dataset.T)\n",
        "    return mu, sigma\n",
        "    \n",
        "## probabilidad\n",
        "def multivariateGaussian(dataset,mu,sigma):\n",
        "    p = multivariate_normal(mean=mu, cov=sigma)\n",
        "    return p.pdf(dataset)\n",
        "\n",
        "def selectThresholdByCV(probs,gt):\n",
        "    best_epsilon = 0\n",
        "    best_f1 = 0\n",
        "    f = 0\n",
        "    stepsize = (max(probs) - min(probs)) / 1000\n",
        "    epsilons = np.arange(min(probs),max(probs),stepsize)\n",
        "    for epsilon in np.nditer(epsilons):\n",
        "\n",
        "        predictions = (probs < epsilon) \n",
        "        f = f1_score(gt, predictions,average='binary')\n",
        "      \n",
        "        if f > best_f1:\n",
        "            best_f1 = f\n",
        "            best_epsilon = epsilon\n",
        "    \n",
        "    return best_f1, best_epsilon\n"
      ],
      "execution_count": 88,
      "outputs": []
    },
    {
      "cell_type": "code",
      "metadata": {
        "id": "OHStV2oXAQPE"
      },
      "source": [
        "mu, sigma = estimateGaussian(train)\n",
        "p = multivariateGaussian(train,mu,sigma)"
      ],
      "execution_count": 77,
      "outputs": []
    },
    {
      "cell_type": "code",
      "metadata": {
        "colab": {
          "base_uri": "https://localhost:8080/"
        },
        "id": "oX6gm1I0OnLz",
        "outputId": "61065757-c92c-48af-cdb9-902f838c917b"
      },
      "source": [
        "print(p)"
      ],
      "execution_count": 78,
      "outputs": [
        {
          "output_type": "stream",
          "text": [
            "[0.23431945 0.31009622 0.22670016 0.2208083  0.15095585 0.19969697\n",
            " 0.14680711 0.0858851  0.07053945 0.1298267  0.19727557 0.1734548\n",
            " 0.09782319 0.15281049 0.1734548  0.24569404 0.26016966 0.02912061\n",
            " 0.18582358 0.28445693 0.26924266 0.0752     0.06213504 0.09782319\n",
            " 0.1431563  0.25247859 0.0162055  0.28624323 0.24029438 0.16971073\n",
            " 0.27630645 0.01364933 0.25481827 0.2765844  0.00051524 0.17421813\n",
            " 0.22602604 0.16831363 0.19727557 0.01561357 0.27630645 0.11492684\n",
            " 0.22529554 0.00246508 0.29927816 0.28606927]\n"
          ],
          "name": "stdout"
        }
      ]
    },
    {
      "cell_type": "code",
      "metadata": {
        "colab": {
          "base_uri": "https://localhost:8080/"
        },
        "id": "rZJXht4sO4CW",
        "outputId": "0e3962eb-22a1-46cd-b473-bfa07628ddbb"
      },
      "source": [
        "p_cv = multivariateGaussian(validation[:, :-1],mu,sigma)\n",
        "fscore, ep = selectThresholdByCV(p_cv,validation[:, -1])\n",
        "print(ep)\n",
        "print(fscore)"
      ],
      "execution_count": 89,
      "outputs": [
        {
          "output_type": "stream",
          "text": [
            "0.0002832919790656053\n",
            "1.0\n"
          ],
          "name": "stdout"
        }
      ]
    },
    {
      "cell_type": "code",
      "metadata": {
        "id": "g5i01O3gCiH5"
      },
      "source": [
        "p_test = multivariateGaussian(test[:, :-1],mu,sigma)\n",
        "\n",
        "predictions = (p_test < ep)\n",
        "test_f1_score = f1_score(validation[:, -1], predictions,average='binary') \n"
      ],
      "execution_count": 85,
      "outputs": []
    },
    {
      "cell_type": "code",
      "metadata": {
        "colab": {
          "base_uri": "https://localhost:8080/"
        },
        "id": "X78jjMNcUV9D",
        "outputId": "947aa1da-8a4d-4a1b-d71d-909546c7da62"
      },
      "source": [
        "print(predictions)\n",
        "print(test_f1_score)"
      ],
      "execution_count": 86,
      "outputs": [
        {
          "output_type": "stream",
          "text": [
            "[False False False False  True  True]\n",
            "1.0\n"
          ],
          "name": "stdout"
        }
      ]
    }
  ]
}